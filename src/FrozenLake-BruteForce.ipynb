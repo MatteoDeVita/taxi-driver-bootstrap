{
 "cells": [
  {
   "cell_type": "code",
   "execution_count": 1,
   "metadata": {},
   "outputs": [],
   "source": [
    "import gym\n",
    "from gym.envs.toy_text.frozen_lake import generate_random_map\n",
    "import numpy as np\n"
   ]
  },
  {
   "cell_type": "code",
   "execution_count": 29,
   "metadata": {},
   "outputs": [
    {
     "name": "stdout",
     "output_type": "stream",
     "text": [
      "[0]\n"
     ]
    }
   ],
   "source": [
    "\n",
    "MAP_SIZE = 4\n",
    "\n",
    "def create_frozen_lake_env(map_name, is_slippery=False):\n",
    "    return gym.make(\n",
    "        \"FrozenLake-v1\",\n",
    "        desc=generate_random_map(size=MAP_SIZE),\n",
    "        map_name=map_name,\n",
    "        is_slippery=is_slippery,\n",
    "        render_mode=\"ansi\"\n",
    "    )\n",
    "\n",
    "\n",
    "\n",
    "\n",
    "def brute_force(env):\n",
    "    history = np.empty((MAP_SIZE, MAP_SIZE))\n",
    "    history = np.empty((12, 12), dtype=object)\n",
    "    for i in np.ndindex(history.shape): history[i] = []    \n",
    "    done = False\n",
    "    state = env.reset()[0]\n",
    "\n",
    "    while done == False:\n",
    "        return\n",
    "\n",
    "\n",
    "env = create_frozen_lake_env(\"brute_force\")\n",
    "print(env.action_space.seed(0)[0])\n",
    "# brute_force(env)"
   ]
  },
  {
   "cell_type": "code",
   "execution_count": null,
   "metadata": {},
   "outputs": [],
   "source": []
  }
 ],
 "metadata": {
  "kernelspec": {
   "display_name": "base",
   "language": "python",
   "name": "python3"
  },
  "language_info": {
   "name": "python",
   "version": "3.9.13"
  },
  "orig_nbformat": 4
 },
 "nbformat": 4,
 "nbformat_minor": 2
}
