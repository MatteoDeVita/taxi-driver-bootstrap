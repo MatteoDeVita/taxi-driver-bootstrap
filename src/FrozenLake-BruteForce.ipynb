{
 "cells": [
  {
   "cell_type": "code",
   "execution_count": 1,
   "metadata": {},
   "outputs": [],
   "source": [
    "import gym\n",
    "from gym.envs.toy_text.frozen_lake import generate_random_map\n",
    "import numpy as np\n",
    "import random\n",
    "from IPython.display import clear_output\n",
    "import time\n",
    "import itertools\n"
   ]
  },
  {
   "cell_type": "code",
   "execution_count": 2,
   "metadata": {},
   "outputs": [],
   "source": [
    "# 0: LEFT\n",
    "# 1: DOWN\n",
    "# 2: RIGHT\n",
    "# 3: UP\n",
    "\n",
    "MAP_SIZE = 4\n",
    "\n",
    "def create_frozen_lake_env(map_name, is_slippery=False):\n",
    "    return gym.make(\n",
    "        \"FrozenLake-v1\",\n",
    "        desc=[\n",
    "            \"SFFF\",\n",
    "            \"HHFH\",\n",
    "            \"FFFF\",\n",
    "            \"FHFG\",\n",
    "        ],\n",
    "        # desc=generate_random_map(size=MAP_SIZE),\n",
    "        map_name=map_name,\n",
    "        is_slippery=is_slippery,\n",
    "        render_mode=\"ansi\"\n",
    "    )\n",
    "\n",
    "\n",
    "def reset_history():\n",
    "    history = np.empty((MAP_SIZE, MAP_SIZE), dtype=object)\n",
    "    for i in np.ndindex(history.shape): history[i] = []\n",
    "    return history\n",
    "\n",
    "def get_next_pos(current_pos, action):\n",
    "    return [\n",
    "        (current_pos[0] - 1, current_pos[1]),\n",
    "        (current_pos[0], current_pos[1] + 1),\n",
    "        (current_pos[0] + 1, current_pos[1]),\n",
    "        (current_pos[0], current_pos[1] - 1),\n",
    "    ][action]\n",
    "\n",
    "def is_out_of_map(pos):\n",
    "    return pos[0] < 0 or pos[0] >= MAP_SIZE or pos[1] < 0 or pos[1] >= MAP_SIZE\n",
    "\n",
    "def display(env, sleep_time=1, clear=True):\n",
    "    print(env.render())\n",
    "    time.sleep(sleep_time)\n",
    "    if clear: clear_output(wait=True)\n",
    "\n",
    "def get_backward_action(current_pos, wanted_pos):\n",
    "    if current_pos[0] == wanted_pos[0] + 1 and current_pos[1] == wanted_pos[1]:\n",
    "        return 0\n",
    "    elif current_pos[0] == wanted_pos[0] and current_pos[1] == wanted_pos[1] - 1:\n",
    "        return 1\n",
    "    elif current_pos[0] == wanted_pos[0] - 1 and current_pos[1] == wanted_pos[1]:\n",
    "        return 2\n",
    "    return 3\n"
   ]
  },
  {
   "cell_type": "code",
   "execution_count": 4,
   "metadata": {},
   "outputs": [
    {
     "name": "stdout",
     "output_type": "stream",
     "text": [
      "[[0, 0, 0, 0, 0]]\n",
      "[[0, 0, 0, 0, 1], [0, 0, 0, 0, 1]]\n",
      "[[0, 0, 0, 0, 2], [0, 0, 0, 0, 2], [0, 0, 0, 0, 2]]\n",
      "[[0, 0, 0, 0, 3], [0, 0, 0, 0, 3], [0, 0, 0, 0, 3], [0, 0, 0, 0, 3]]\n",
      "[[0, 0, 0, 0, 3], [0, 0, 0, 0, 3], [0, 0, 0, 0, 3], [0, 0, 0, 0, 3], [0, 0, 0, 0, 3]]\n",
      "[[0, 0, 0, 0, 3], [0, 0, 0, 0, 3], [0, 0, 0, 0, 3], [0, 0, 0, 0, 3], [0, 0, 0, 0, 3], [0, 0, 0, 0, 3]]\n",
      "[[0, 0, 0, 0, 3], [0, 0, 0, 0, 3], [0, 0, 0, 0, 3], [0, 0, 0, 0, 3], [0, 0, 0, 0, 3], [0, 0, 0, 0, 3], [0, 0, 0, 0, 3]]\n",
      "[[0, 0, 0, 0, 3], [0, 0, 0, 0, 3], [0, 0, 0, 0, 3], [0, 0, 0, 0, 3], [0, 0, 0, 0, 3], [0, 0, 0, 0, 3], [0, 0, 0, 0, 3], [0, 0, 0, 0, 3]]\n",
      "[[0, 0, 0, 0, 3], [0, 0, 0, 0, 3], [0, 0, 0, 0, 3], [0, 0, 0, 0, 3], [0, 0, 0, 0, 3], [0, 0, 0, 0, 3], [0, 0, 0, 0, 3], [0, 0, 0, 0, 3], [0, 0, 0, 0, 3]]\n",
      "[[0, 0, 0, 0, 3], [0, 0, 0, 0, 3], [0, 0, 0, 0, 3], [0, 0, 0, 0, 3], [0, 0, 0, 0, 3], [0, 0, 0, 0, 3], [0, 0, 0, 0, 3], [0, 0, 0, 0, 3], [0, 0, 0, 0, 3], [0, 0, 0, 0, 3]]\n"
     ]
    }
   ],
   "source": [
    "import itertools\n",
    "\n",
    "env = create_frozen_lake_env(\"brute_force\")\n",
    "\n",
    "\n",
    "def generate_action_list(action_range, size):\n",
    "    temp = 0\n",
    "    policies = [\n",
    "        [action_range[0]] * size\n",
    "    ]\n",
    "    current_i = -1\n",
    "    while policies[-1] != [action_range[1]] * size:\n",
    "        print(policies)\n",
    "        policy = policies[-1]\n",
    "        if policy[current_i] <= action_range[1]:\n",
    "            policy[current_i] = policy[current_i] + 1\n",
    "        policies.append(policy)\n",
    "        temp += 1\n",
    "        if temp >= 10:\n",
    "            break\n",
    "    return policies\n",
    "\n",
    "\n",
    "actions = list(range(0, env.action_space.n))\n",
    "# action_list = list(itertools.product([0, 1, 2], repeat=5))\n",
    "action_list = generate_action_list((0, 2), 5)"
   ]
  },
  {
   "cell_type": "code",
   "execution_count": null,
   "metadata": {},
   "outputs": [],
   "source": []
  }
 ],
 "metadata": {
  "kernelspec": {
   "display_name": "base",
   "language": "python",
   "name": "python3"
  },
  "language_info": {
   "codemirror_mode": {
    "name": "ipython",
    "version": 3
   },
   "file_extension": ".py",
   "mimetype": "text/x-python",
   "name": "python",
   "nbconvert_exporter": "python",
   "pygments_lexer": "ipython3",
   "version": "3.9.13"
  },
  "orig_nbformat": 4
 },
 "nbformat": 4,
 "nbformat_minor": 2
}
