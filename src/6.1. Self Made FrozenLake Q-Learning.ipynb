{
 "cells": [
  {
   "cell_type": "code",
   "execution_count": 27,
   "metadata": {},
   "outputs": [],
   "source": [
    "import gym\n",
    "from gym.envs.toy_text.frozen_lake import generate_random_map\n",
    "import numpy as np\n",
    "from tqdm.auto import tqdm\n",
    "import time\n",
    "from IPython.display import clear_output"
   ]
  },
  {
   "cell_type": "code",
   "execution_count": 36,
   "metadata": {},
   "outputs": [],
   "source": [
    "\n",
    "def create_frozen_lake_env(map_name, map_size=4, is_slippery=False):\n",
    "    return gym.make(\n",
    "        \"FrozenLake-v1\",\n",
    "        desc=generate_random_map(size=map_size),\n",
    "        map_name=map_name,\n",
    "        is_slippery=is_slippery,\n",
    "        render_mode=\"ansi\"\n",
    "    )\n",
    "\n",
    "\n",
    "def train(env, n_episode=10_000, alpha=0.5, gamma=0.5): #Returns the q_table\n",
    "    q_table = np.zeros((env.observation_space.n, env.action_space.n))\n",
    "\n",
    "    def get_new_action_quality(current_quality, reward, new_state):\n",
    "        return current_quality + alpha * (reward + gamma * np.max(q_table[new_state]) - current_quality)\n",
    "\n",
    "    for _ in tqdm(range(n_episode)):\n",
    "        done = False\n",
    "        state = env.reset()[0]\n",
    "        \n",
    "        while done == False:\n",
    "            state_list = q_table[state]\n",
    "            # action is the max rated action for this state or random if all recorded actions are 0\n",
    "            action = env.action_space.sample() if np.all(state_list == 0) else np.argmax(state_list)\n",
    "            new_state, reward, done, trucaded, info = env.step(action)\n",
    "            q_table[state][action] = get_new_action_quality(q_table[state][action], reward, new_state)\n",
    "            state = new_state\n",
    "    return q_table\n",
    "\n",
    "def play(env, q_table):\n",
    "    done = False\n",
    "    state = env.reset()[0]\n",
    "\n",
    "    while done == False:\n",
    "        state_list = q_table[state]\n",
    "        action = env.action_space.sample() if np.all(state_list == 0) else np.argmax(state_list)\n",
    "        state, reward, done, trucaded, info = env.step(action)\n",
    "        clear_output(wait=True)\n",
    "        print(env.render())\n",
    "        time.sleep(0.25)\n"
   ]
  },
  {
   "cell_type": "code",
   "execution_count": 42,
   "metadata": {},
   "outputs": [
    {
     "name": "stdout",
     "output_type": "stream",
     "text": [
      "  (Down)\n",
      "SFFF\n",
      "HHFF\n",
      "FHFF\n",
      "HFF\u001b[41mG\u001b[0m\n",
      "\n"
     ]
    }
   ],
   "source": [
    "env = create_frozen_lake_env(\"normal\", map_size=4)\n",
    "q_table = train(env)\n",
    "play(env, q_table)"
   ]
  },
  {
   "cell_type": "code",
   "execution_count": null,
   "metadata": {},
   "outputs": [],
   "source": []
  }
 ],
 "metadata": {
  "kernelspec": {
   "display_name": "base",
   "language": "python",
   "name": "python3"
  },
  "language_info": {
   "codemirror_mode": {
    "name": "ipython",
    "version": 3
   },
   "file_extension": ".py",
   "mimetype": "text/x-python",
   "name": "python",
   "nbconvert_exporter": "python",
   "pygments_lexer": "ipython3",
   "version": "3.9.13"
  },
  "orig_nbformat": 4
 },
 "nbformat": 4,
 "nbformat_minor": 2
}
